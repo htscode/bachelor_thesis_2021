{
 "cells": [
  {
   "cell_type": "code",
   "execution_count": 1,
   "metadata": {},
   "outputs": [
    {
     "name": "stdout",
     "output_type": "stream",
     "text": [
      "WARNING:tensorflow:From /home/hterborg/.local/lib/python3.7/site-packages/tensorflow/python/compat/v2_compat.py:96: disable_resource_variables (from tensorflow.python.ops.variable_scope) is deprecated and will be removed in a future version.\n",
      "Instructions for updating:\n",
      "non-resource variables are not supported in the long term\n"
     ]
    }
   ],
   "source": [
    "\n",
    "import tensorflow.compat.v1 as tf\n",
    "tf.disable_v2_behavior()\n",
    "\n",
    "import numpy as np\n",
    "import scipy.io as sio\n",
    "#import matplotlib.pyplot as plt\n",
    "#added\n",
    "import h5py\n",
    "\n",
    "import os"
   ]
  },
  {
   "cell_type": "code",
   "execution_count": 2,
   "metadata": {},
   "outputs": [
    {
     "name": "stdout",
     "output_type": "stream",
     "text": [
      "INFO:tensorflow:Restoring parameters from ./CNN3d-tflayers-model/model.ckpt-10\n"
     ]
    }
   ],
   "source": [
    "\n",
    "sess=tf.Session()\n",
    "saver = tf.train.import_meta_graph('./CNN3d-tflayers-model/model.ckpt-10.meta')\n",
    "\n",
    "saver.restore(sess, './CNN3d-tflayers-model/model.ckpt-10')"
   ]
  },
  {
   "cell_type": "code",
   "execution_count": 3,
   "metadata": {},
   "outputs": [],
   "source": [
    "#get the default graph\n",
    "graph = tf.get_default_graph()"
   ]
  },
  {
   "cell_type": "code",
   "execution_count": 4,
   "metadata": {},
   "outputs": [
    {
     "name": "stdout",
     "output_type": "stream",
     "text": [
      "tf_x\n",
      "tf_y\n",
      "is_train\n",
      "input_x_3d_volumes/shape\n",
      "input_x_3d_volumes\n",
      "input_y_onehot/on_value\n",
      "input_y_onehot/off_value\n",
      "input_y_onehot/depth\n",
      "input_y_onehot\n",
      "conv3d/kernel/Initializer/random_uniform/shape\n",
      "conv3d/kernel/Initializer/random_uniform/min\n",
      "conv3d/kernel/Initializer/random_uniform/max\n",
      "conv3d/kernel/Initializer/random_uniform/RandomUniform\n",
      "conv3d/kernel/Initializer/random_uniform/sub\n",
      "conv3d/kernel/Initializer/random_uniform/mul\n",
      "conv3d/kernel/Initializer/random_uniform\n",
      "conv3d/kernel\n",
      "conv3d/kernel/Assign\n",
      "conv3d/kernel/read\n",
      "conv3d/bias/Initializer/zeros\n",
      "conv3d/bias\n",
      "conv3d/bias/Assign\n",
      "conv3d/bias/read\n",
      "conv3d/Conv3D\n",
      "conv3d/BiasAdd\n",
      "conv3d/Relu\n",
      "max_pooling3d/MaxPool3D\n",
      "conv3d_1/kernel/Initializer/random_uniform/shape\n",
      "conv3d_1/kernel/Initializer/random_uniform/min\n",
      "conv3d_1/kernel/Initializer/random_uniform/max\n",
      "conv3d_1/kernel/Initializer/random_uniform/RandomUniform\n",
      "conv3d_1/kernel/Initializer/random_uniform/sub\n",
      "conv3d_1/kernel/Initializer/random_uniform/mul\n",
      "conv3d_1/kernel/Initializer/random_uniform\n",
      "conv3d_1/kernel\n",
      "conv3d_1/kernel/Assign\n",
      "conv3d_1/kernel/read\n",
      "conv3d_1/bias/Initializer/zeros\n",
      "conv3d_1/bias\n",
      "conv3d_1/bias/Assign\n",
      "conv3d_1/bias/read\n",
      "conv3d_1/Conv3D\n",
      "conv3d_1/BiasAdd\n",
      "conv3d_1/Relu\n",
      "max_pooling3d_1/MaxPool3D\n",
      "conv3d_2/kernel/Initializer/random_uniform/shape\n",
      "conv3d_2/kernel/Initializer/random_uniform/min\n",
      "conv3d_2/kernel/Initializer/random_uniform/max\n",
      "conv3d_2/kernel/Initializer/random_uniform/RandomUniform\n",
      "conv3d_2/kernel/Initializer/random_uniform/sub\n",
      "conv3d_2/kernel/Initializer/random_uniform/mul\n",
      "conv3d_2/kernel/Initializer/random_uniform\n",
      "conv3d_2/kernel\n",
      "conv3d_2/kernel/Assign\n",
      "conv3d_2/kernel/read\n",
      "conv3d_2/bias/Initializer/zeros\n",
      "conv3d_2/bias\n",
      "conv3d_2/bias/Assign\n",
      "conv3d_2/bias/read\n",
      "conv3d_2/Conv3D\n",
      "conv3d_2/BiasAdd\n",
      "conv3d_2/Relu\n",
      "max_pooling3d_2/MaxPool3D\n",
      "Reshape/shape\n",
      "Reshape\n",
      "dense/kernel/Initializer/random_uniform/shape\n",
      "dense/kernel/Initializer/random_uniform/min\n",
      "dense/kernel/Initializer/random_uniform/max\n",
      "dense/kernel/Initializer/random_uniform/RandomUniform\n",
      "dense/kernel/Initializer/random_uniform/sub\n",
      "dense/kernel/Initializer/random_uniform/mul\n",
      "dense/kernel/Initializer/random_uniform\n",
      "dense/kernel\n",
      "dense/kernel/Assign\n",
      "dense/kernel/read\n",
      "dense/bias/Initializer/zeros\n",
      "dense/bias\n",
      "dense/bias/Assign\n",
      "dense/bias/read\n",
      "dense/MatMul\n",
      "dense/BiasAdd\n",
      "dense/Relu\n",
      "dropout/cond/Switch\n",
      "dropout/cond/switch_t\n",
      "dropout/cond/switch_f\n",
      "dropout/cond/pred_id\n",
      "dropout/cond/dropout/Const\n",
      "dropout/cond/dropout/Mul/Switch\n",
      "dropout/cond/dropout/Mul\n",
      "dropout/cond/dropout/Shape\n",
      "dropout/cond/dropout/random_uniform/RandomUniform\n",
      "dropout/cond/dropout/GreaterEqual/y\n",
      "dropout/cond/dropout/GreaterEqual\n",
      "dropout/cond/dropout/Cast\n",
      "dropout/cond/dropout/Mul_1\n",
      "dropout/cond/Identity/Switch\n",
      "dropout/cond/Identity\n",
      "dropout/cond/Merge\n",
      "dense_1/kernel/Initializer/random_uniform/shape\n",
      "dense_1/kernel/Initializer/random_uniform/min\n",
      "dense_1/kernel/Initializer/random_uniform/max\n",
      "dense_1/kernel/Initializer/random_uniform/RandomUniform\n",
      "dense_1/kernel/Initializer/random_uniform/sub\n",
      "dense_1/kernel/Initializer/random_uniform/mul\n",
      "dense_1/kernel/Initializer/random_uniform\n",
      "dense_1/kernel\n",
      "dense_1/kernel/Assign\n",
      "dense_1/kernel/read\n",
      "dense_1/bias/Initializer/zeros\n",
      "dense_1/bias\n",
      "dense_1/bias/Assign\n",
      "dense_1/bias/read\n",
      "dense_1/MatMul\n",
      "dense_1/BiasAdd\n",
      "dense_1/Sigmoid\n",
      "probabilities\n",
      "ArgMax/dimension\n",
      "ArgMax\n",
      "labels\n",
      "softmax_cross_entropy_with_logits_sg/labels_stop_gradient\n",
      "softmax_cross_entropy_with_logits_sg/Rank\n",
      "softmax_cross_entropy_with_logits_sg/Shape\n",
      "softmax_cross_entropy_with_logits_sg/Rank_1\n",
      "softmax_cross_entropy_with_logits_sg/Shape_1\n",
      "softmax_cross_entropy_with_logits_sg/Sub/y\n",
      "softmax_cross_entropy_with_logits_sg/Sub\n",
      "softmax_cross_entropy_with_logits_sg/Slice/begin\n",
      "softmax_cross_entropy_with_logits_sg/Slice/size\n",
      "softmax_cross_entropy_with_logits_sg/Slice\n",
      "softmax_cross_entropy_with_logits_sg/concat/values_0\n",
      "softmax_cross_entropy_with_logits_sg/concat/axis\n",
      "softmax_cross_entropy_with_logits_sg/concat\n",
      "softmax_cross_entropy_with_logits_sg/Reshape\n",
      "softmax_cross_entropy_with_logits_sg/Rank_2\n",
      "softmax_cross_entropy_with_logits_sg/Shape_2\n",
      "softmax_cross_entropy_with_logits_sg/Sub_1/y\n",
      "softmax_cross_entropy_with_logits_sg/Sub_1\n",
      "softmax_cross_entropy_with_logits_sg/Slice_1/begin\n",
      "softmax_cross_entropy_with_logits_sg/Slice_1/size\n",
      "softmax_cross_entropy_with_logits_sg/Slice_1\n",
      "softmax_cross_entropy_with_logits_sg/concat_1/values_0\n",
      "softmax_cross_entropy_with_logits_sg/concat_1/axis\n",
      "softmax_cross_entropy_with_logits_sg/concat_1\n",
      "softmax_cross_entropy_with_logits_sg/Reshape_1\n",
      "softmax_cross_entropy_with_logits_sg\n",
      "softmax_cross_entropy_with_logits_sg/Sub_2/y\n",
      "softmax_cross_entropy_with_logits_sg/Sub_2\n",
      "softmax_cross_entropy_with_logits_sg/Slice_2/begin\n",
      "softmax_cross_entropy_with_logits_sg/Slice_2/size\n",
      "softmax_cross_entropy_with_logits_sg/Slice_2\n",
      "softmax_cross_entropy_with_logits_sg/Reshape_2\n",
      "Const\n",
      "cross_entropy_loss\n",
      "gradients/Shape\n",
      "gradients/grad_ys_0\n",
      "gradients/Fill\n",
      "gradients/cross_entropy_loss_grad/Reshape/shape\n",
      "gradients/cross_entropy_loss_grad/Reshape\n",
      "gradients/cross_entropy_loss_grad/Shape\n",
      "gradients/cross_entropy_loss_grad/Tile\n",
      "gradients/cross_entropy_loss_grad/Shape_1\n",
      "gradients/cross_entropy_loss_grad/Shape_2\n",
      "gradients/cross_entropy_loss_grad/Const\n",
      "gradients/cross_entropy_loss_grad/Prod\n",
      "gradients/cross_entropy_loss_grad/Const_1\n",
      "gradients/cross_entropy_loss_grad/Prod_1\n",
      "gradients/cross_entropy_loss_grad/Maximum/y\n",
      "gradients/cross_entropy_loss_grad/Maximum\n",
      "gradients/cross_entropy_loss_grad/floordiv\n",
      "gradients/cross_entropy_loss_grad/Cast\n",
      "gradients/cross_entropy_loss_grad/truediv\n",
      "gradients/softmax_cross_entropy_with_logits_sg/Reshape_2_grad/Shape\n",
      "gradients/softmax_cross_entropy_with_logits_sg/Reshape_2_grad/Reshape\n",
      "gradients/zeros_like\n",
      "gradients/softmax_cross_entropy_with_logits_sg_grad/ExpandDims/dim\n",
      "gradients/softmax_cross_entropy_with_logits_sg_grad/ExpandDims\n",
      "gradients/softmax_cross_entropy_with_logits_sg_grad/mul\n",
      "gradients/softmax_cross_entropy_with_logits_sg_grad/LogSoftmax\n",
      "gradients/softmax_cross_entropy_with_logits_sg_grad/Neg\n",
      "gradients/softmax_cross_entropy_with_logits_sg_grad/ExpandDims_1/dim\n",
      "gradients/softmax_cross_entropy_with_logits_sg_grad/ExpandDims_1\n",
      "gradients/softmax_cross_entropy_with_logits_sg_grad/mul_1\n",
      "gradients/softmax_cross_entropy_with_logits_sg_grad/tuple/group_deps\n",
      "gradients/softmax_cross_entropy_with_logits_sg_grad/tuple/control_dependency\n",
      "gradients/softmax_cross_entropy_with_logits_sg_grad/tuple/control_dependency_1\n",
      "gradients/softmax_cross_entropy_with_logits_sg/Reshape_grad/Shape\n",
      "gradients/softmax_cross_entropy_with_logits_sg/Reshape_grad/Reshape\n",
      "gradients/dense_1/Sigmoid_grad/SigmoidGrad\n",
      "gradients/dense_1/BiasAdd_grad/BiasAddGrad\n",
      "gradients/dense_1/BiasAdd_grad/tuple/group_deps\n",
      "gradients/dense_1/BiasAdd_grad/tuple/control_dependency\n",
      "gradients/dense_1/BiasAdd_grad/tuple/control_dependency_1\n",
      "gradients/dense_1/MatMul_grad/MatMul\n",
      "gradients/dense_1/MatMul_grad/MatMul_1\n",
      "gradients/dense_1/MatMul_grad/tuple/group_deps\n",
      "gradients/dense_1/MatMul_grad/tuple/control_dependency\n",
      "gradients/dense_1/MatMul_grad/tuple/control_dependency_1\n",
      "gradients/dropout/cond/Merge_grad/cond_grad\n",
      "gradients/dropout/cond/Merge_grad/tuple/group_deps\n",
      "gradients/dropout/cond/Merge_grad/tuple/control_dependency\n",
      "gradients/dropout/cond/Merge_grad/tuple/control_dependency_1\n",
      "gradients/dropout/cond/dropout/Mul_1_grad/Shape\n",
      "gradients/dropout/cond/dropout/Mul_1_grad/Shape_1\n",
      "gradients/dropout/cond/dropout/Mul_1_grad/BroadcastGradientArgs\n",
      "gradients/dropout/cond/dropout/Mul_1_grad/Mul\n",
      "gradients/dropout/cond/dropout/Mul_1_grad/Sum\n",
      "gradients/dropout/cond/dropout/Mul_1_grad/Reshape\n",
      "gradients/dropout/cond/dropout/Mul_1_grad/Mul_1\n",
      "gradients/dropout/cond/dropout/Mul_1_grad/Sum_1\n",
      "gradients/dropout/cond/dropout/Mul_1_grad/Reshape_1\n",
      "gradients/dropout/cond/dropout/Mul_1_grad/tuple/group_deps\n",
      "gradients/dropout/cond/dropout/Mul_1_grad/tuple/control_dependency\n",
      "gradients/dropout/cond/dropout/Mul_1_grad/tuple/control_dependency_1\n",
      "gradients/Switch\n",
      "gradients/Identity\n",
      "gradients/Shape_1\n",
      "gradients/zeros/Const\n",
      "gradients/zeros\n",
      "gradients/dropout/cond/Identity/Switch_grad/cond_grad\n",
      "gradients/dropout/cond/dropout/Mul_grad/Shape\n",
      "gradients/dropout/cond/dropout/Mul_grad/Shape_1\n",
      "gradients/dropout/cond/dropout/Mul_grad/BroadcastGradientArgs\n",
      "gradients/dropout/cond/dropout/Mul_grad/Mul\n",
      "gradients/dropout/cond/dropout/Mul_grad/Sum\n",
      "gradients/dropout/cond/dropout/Mul_grad/Reshape\n",
      "gradients/dropout/cond/dropout/Mul_grad/Mul_1\n",
      "gradients/dropout/cond/dropout/Mul_grad/Sum_1\n",
      "gradients/dropout/cond/dropout/Mul_grad/Reshape_1\n",
      "gradients/dropout/cond/dropout/Mul_grad/tuple/group_deps\n",
      "gradients/dropout/cond/dropout/Mul_grad/tuple/control_dependency\n",
      "gradients/dropout/cond/dropout/Mul_grad/tuple/control_dependency_1\n",
      "gradients/Switch_1\n",
      "gradients/Identity_1\n",
      "gradients/Shape_2\n",
      "gradients/zeros_1/Const\n",
      "gradients/zeros_1\n",
      "gradients/dropout/cond/dropout/Mul/Switch_grad/cond_grad\n",
      "gradients/AddN\n",
      "gradients/dense/Relu_grad/ReluGrad\n",
      "gradients/dense/BiasAdd_grad/BiasAddGrad\n",
      "gradients/dense/BiasAdd_grad/tuple/group_deps\n",
      "gradients/dense/BiasAdd_grad/tuple/control_dependency\n",
      "gradients/dense/BiasAdd_grad/tuple/control_dependency_1\n",
      "gradients/dense/MatMul_grad/MatMul\n",
      "gradients/dense/MatMul_grad/MatMul_1\n",
      "gradients/dense/MatMul_grad/tuple/group_deps\n",
      "gradients/dense/MatMul_grad/tuple/control_dependency\n",
      "gradients/dense/MatMul_grad/tuple/control_dependency_1\n",
      "gradients/Reshape_grad/Shape\n",
      "gradients/Reshape_grad/Reshape\n",
      "gradients/max_pooling3d_2/MaxPool3D_grad/MaxPool3DGrad\n",
      "gradients/conv3d_2/Relu_grad/ReluGrad\n",
      "gradients/conv3d_2/BiasAdd_grad/BiasAddGrad\n",
      "gradients/conv3d_2/BiasAdd_grad/tuple/group_deps\n",
      "gradients/conv3d_2/BiasAdd_grad/tuple/control_dependency\n",
      "gradients/conv3d_2/BiasAdd_grad/tuple/control_dependency_1\n",
      "gradients/conv3d_2/Conv3D_grad/Shape\n",
      "gradients/conv3d_2/Conv3D_grad/Conv3DBackpropInputV2\n",
      "gradients/conv3d_2/Conv3D_grad/Shape_1\n",
      "gradients/conv3d_2/Conv3D_grad/Conv3DBackpropFilterV2\n",
      "gradients/conv3d_2/Conv3D_grad/tuple/group_deps\n",
      "gradients/conv3d_2/Conv3D_grad/tuple/control_dependency\n",
      "gradients/conv3d_2/Conv3D_grad/tuple/control_dependency_1\n",
      "gradients/max_pooling3d_1/MaxPool3D_grad/MaxPool3DGrad\n",
      "gradients/conv3d_1/Relu_grad/ReluGrad\n",
      "gradients/conv3d_1/BiasAdd_grad/BiasAddGrad\n",
      "gradients/conv3d_1/BiasAdd_grad/tuple/group_deps\n",
      "gradients/conv3d_1/BiasAdd_grad/tuple/control_dependency\n",
      "gradients/conv3d_1/BiasAdd_grad/tuple/control_dependency_1\n",
      "gradients/conv3d_1/Conv3D_grad/Shape\n",
      "gradients/conv3d_1/Conv3D_grad/Conv3DBackpropInputV2\n",
      "gradients/conv3d_1/Conv3D_grad/Shape_1\n",
      "gradients/conv3d_1/Conv3D_grad/Conv3DBackpropFilterV2\n",
      "gradients/conv3d_1/Conv3D_grad/tuple/group_deps\n",
      "gradients/conv3d_1/Conv3D_grad/tuple/control_dependency\n",
      "gradients/conv3d_1/Conv3D_grad/tuple/control_dependency_1\n",
      "gradients/max_pooling3d/MaxPool3D_grad/MaxPool3DGrad\n",
      "gradients/conv3d/Relu_grad/ReluGrad\n",
      "gradients/conv3d/BiasAdd_grad/BiasAddGrad\n",
      "gradients/conv3d/BiasAdd_grad/tuple/group_deps\n",
      "gradients/conv3d/BiasAdd_grad/tuple/control_dependency\n",
      "gradients/conv3d/BiasAdd_grad/tuple/control_dependency_1\n",
      "gradients/conv3d/Conv3D_grad/Shape\n",
      "gradients/conv3d/Conv3D_grad/Conv3DBackpropInputV2\n",
      "gradients/conv3d/Conv3D_grad/Shape_1\n",
      "gradients/conv3d/Conv3D_grad/Conv3DBackpropFilterV2\n",
      "gradients/conv3d/Conv3D_grad/tuple/group_deps\n",
      "gradients/conv3d/Conv3D_grad/tuple/control_dependency\n",
      "gradients/conv3d/Conv3D_grad/tuple/control_dependency_1\n",
      "beta1_power/initial_value\n",
      "beta1_power\n",
      "beta1_power/Assign\n",
      "beta1_power/read\n",
      "beta2_power/initial_value\n",
      "beta2_power\n",
      "beta2_power/Assign\n",
      "beta2_power/read\n",
      "conv3d/kernel/Adam/Initializer/zeros/shape_as_tensor\n",
      "conv3d/kernel/Adam/Initializer/zeros/Const\n",
      "conv3d/kernel/Adam/Initializer/zeros\n",
      "conv3d/kernel/Adam\n",
      "conv3d/kernel/Adam/Assign\n",
      "conv3d/kernel/Adam/read\n",
      "conv3d/kernel/Adam_1/Initializer/zeros/shape_as_tensor\n",
      "conv3d/kernel/Adam_1/Initializer/zeros/Const\n",
      "conv3d/kernel/Adam_1/Initializer/zeros\n",
      "conv3d/kernel/Adam_1\n",
      "conv3d/kernel/Adam_1/Assign\n",
      "conv3d/kernel/Adam_1/read\n",
      "conv3d/bias/Adam/Initializer/zeros\n",
      "conv3d/bias/Adam\n",
      "conv3d/bias/Adam/Assign\n",
      "conv3d/bias/Adam/read\n",
      "conv3d/bias/Adam_1/Initializer/zeros\n",
      "conv3d/bias/Adam_1\n",
      "conv3d/bias/Adam_1/Assign\n",
      "conv3d/bias/Adam_1/read\n",
      "conv3d_1/kernel/Adam/Initializer/zeros/shape_as_tensor\n",
      "conv3d_1/kernel/Adam/Initializer/zeros/Const\n",
      "conv3d_1/kernel/Adam/Initializer/zeros\n",
      "conv3d_1/kernel/Adam\n",
      "conv3d_1/kernel/Adam/Assign\n",
      "conv3d_1/kernel/Adam/read\n",
      "conv3d_1/kernel/Adam_1/Initializer/zeros/shape_as_tensor\n",
      "conv3d_1/kernel/Adam_1/Initializer/zeros/Const\n",
      "conv3d_1/kernel/Adam_1/Initializer/zeros\n",
      "conv3d_1/kernel/Adam_1\n",
      "conv3d_1/kernel/Adam_1/Assign\n",
      "conv3d_1/kernel/Adam_1/read\n",
      "conv3d_1/bias/Adam/Initializer/zeros\n",
      "conv3d_1/bias/Adam\n",
      "conv3d_1/bias/Adam/Assign\n",
      "conv3d_1/bias/Adam/read\n",
      "conv3d_1/bias/Adam_1/Initializer/zeros\n",
      "conv3d_1/bias/Adam_1\n",
      "conv3d_1/bias/Adam_1/Assign\n",
      "conv3d_1/bias/Adam_1/read\n",
      "conv3d_2/kernel/Adam/Initializer/zeros/shape_as_tensor\n",
      "conv3d_2/kernel/Adam/Initializer/zeros/Const\n",
      "conv3d_2/kernel/Adam/Initializer/zeros\n",
      "conv3d_2/kernel/Adam\n",
      "conv3d_2/kernel/Adam/Assign\n",
      "conv3d_2/kernel/Adam/read\n",
      "conv3d_2/kernel/Adam_1/Initializer/zeros/shape_as_tensor\n",
      "conv3d_2/kernel/Adam_1/Initializer/zeros/Const\n",
      "conv3d_2/kernel/Adam_1/Initializer/zeros\n",
      "conv3d_2/kernel/Adam_1\n",
      "conv3d_2/kernel/Adam_1/Assign\n",
      "conv3d_2/kernel/Adam_1/read\n",
      "conv3d_2/bias/Adam/Initializer/zeros\n",
      "conv3d_2/bias/Adam\n",
      "conv3d_2/bias/Adam/Assign\n",
      "conv3d_2/bias/Adam/read\n",
      "conv3d_2/bias/Adam_1/Initializer/zeros\n",
      "conv3d_2/bias/Adam_1\n",
      "conv3d_2/bias/Adam_1/Assign\n",
      "conv3d_2/bias/Adam_1/read\n",
      "dense/kernel/Adam/Initializer/zeros/shape_as_tensor\n",
      "dense/kernel/Adam/Initializer/zeros/Const\n",
      "dense/kernel/Adam/Initializer/zeros\n",
      "dense/kernel/Adam\n",
      "dense/kernel/Adam/Assign\n",
      "dense/kernel/Adam/read\n",
      "dense/kernel/Adam_1/Initializer/zeros/shape_as_tensor\n",
      "dense/kernel/Adam_1/Initializer/zeros/Const\n",
      "dense/kernel/Adam_1/Initializer/zeros\n",
      "dense/kernel/Adam_1\n",
      "dense/kernel/Adam_1/Assign\n",
      "dense/kernel/Adam_1/read\n",
      "dense/bias/Adam/Initializer/zeros\n",
      "dense/bias/Adam\n",
      "dense/bias/Adam/Assign\n",
      "dense/bias/Adam/read\n",
      "dense/bias/Adam_1/Initializer/zeros\n",
      "dense/bias/Adam_1\n",
      "dense/bias/Adam_1/Assign\n",
      "dense/bias/Adam_1/read\n",
      "dense_1/kernel/Adam/Initializer/zeros\n",
      "dense_1/kernel/Adam\n",
      "dense_1/kernel/Adam/Assign\n",
      "dense_1/kernel/Adam/read\n",
      "dense_1/kernel/Adam_1/Initializer/zeros\n",
      "dense_1/kernel/Adam_1\n",
      "dense_1/kernel/Adam_1/Assign\n",
      "dense_1/kernel/Adam_1/read\n",
      "dense_1/bias/Adam/Initializer/zeros\n",
      "dense_1/bias/Adam\n",
      "dense_1/bias/Adam/Assign\n",
      "dense_1/bias/Adam/read\n",
      "dense_1/bias/Adam_1/Initializer/zeros\n",
      "dense_1/bias/Adam_1\n",
      "dense_1/bias/Adam_1/Assign\n",
      "dense_1/bias/Adam_1/read\n",
      "train_op/learning_rate\n",
      "train_op/beta1\n",
      "train_op/beta2\n",
      "train_op/epsilon\n",
      "train_op/update_conv3d/kernel/ApplyAdam\n",
      "train_op/update_conv3d/bias/ApplyAdam\n",
      "train_op/update_conv3d_1/kernel/ApplyAdam\n",
      "train_op/update_conv3d_1/bias/ApplyAdam\n",
      "train_op/update_conv3d_2/kernel/ApplyAdam\n",
      "train_op/update_conv3d_2/bias/ApplyAdam\n",
      "train_op/update_dense/kernel/ApplyAdam\n",
      "train_op/update_dense/bias/ApplyAdam\n",
      "train_op/update_dense_1/kernel/ApplyAdam\n",
      "train_op/update_dense_1/bias/ApplyAdam\n",
      "train_op/mul\n",
      "train_op/Assign\n",
      "train_op/mul_1\n",
      "train_op/Assign_1\n",
      "train_op\n",
      "correct_preds\n",
      "Cast\n",
      "Const_1\n",
      "accuracy\n",
      "init\n",
      "save/filename/input\n",
      "save/filename\n",
      "save/Const\n",
      "save/SaveV2/tensor_names\n",
      "save/SaveV2/shape_and_slices\n",
      "save/SaveV2\n",
      "save/control_dependency\n",
      "save/RestoreV2/tensor_names\n",
      "save/RestoreV2/shape_and_slices\n",
      "save/RestoreV2\n",
      "save/Assign\n",
      "save/Assign_1\n",
      "save/Assign_2\n",
      "save/Assign_3\n",
      "save/Assign_4\n",
      "save/Assign_5\n",
      "save/Assign_6\n",
      "save/Assign_7\n",
      "save/Assign_8\n",
      "save/Assign_9\n",
      "save/Assign_10\n",
      "save/Assign_11\n",
      "save/Assign_12\n",
      "save/Assign_13\n",
      "save/Assign_14\n",
      "save/Assign_15\n",
      "save/Assign_16\n",
      "save/Assign_17\n",
      "save/Assign_18\n",
      "save/Assign_19\n",
      "save/Assign_20\n",
      "save/Assign_21\n",
      "save/Assign_22\n",
      "save/Assign_23\n",
      "save/Assign_24\n",
      "save/Assign_25\n",
      "save/Assign_26\n",
      "save/Assign_27\n",
      "save/Assign_28\n",
      "save/Assign_29\n",
      "save/Assign_30\n",
      "save/Assign_31\n",
      "save/restore_all\n"
     ]
    }
   ],
   "source": [
    "for op in graph.get_operations():\n",
    "    print(op.name)"
   ]
  },
  {
   "cell_type": "code",
   "execution_count": 5,
   "metadata": {},
   "outputs": [],
   "source": [
    "vols = h5py.File(\"/scratch/hterborg/brute_force/Thesis/3_runs_15_train_1_test_dataset.mat\",'r')\n",
    "                 "
   ]
  },
  {
   "cell_type": "code",
   "execution_count": 6,
   "metadata": {},
   "outputs": [],
   "source": [
    "\n",
    "X_train, y_train, X_test, y_test = vols['train_x'], vols['train_y'], vols['test_x'], vols['test_y']"
   ]
  },
  {
   "cell_type": "code",
   "execution_count": 7,
   "metadata": {},
   "outputs": [
    {
     "name": "stdout",
     "output_type": "stream",
     "text": [
      "(1, 4645) (1, 317)\n"
     ]
    }
   ],
   "source": [
    "print(np.shape(y_train),np.shape(y_test))"
   ]
  },
  {
   "cell_type": "code",
   "execution_count": 8,
   "metadata": {},
   "outputs": [],
   "source": [
    "X_train=np.transpose(X_train)\n",
    "y_train=np.transpose(y_train)\n",
    "X_test=np.transpose(X_test)\n",
    "y_test=np.transpose(y_test)"
   ]
  },
  {
   "cell_type": "code",
   "execution_count": 9,
   "metadata": {},
   "outputs": [],
   "source": [
    "\n",
    "x_mean = np.mean(X_train)\n",
    "x_std = np.std(X_train)\n",
    "X_tr_centered = (X_train - x_mean)/x_std\n",
    "X_ts_centered = (X_test - x_mean)/x_std"
   ]
  },
  {
   "cell_type": "code",
   "execution_count": 10,
   "metadata": {},
   "outputs": [
    {
     "data": {
      "text/plain": [
       "((4645, 79, 95, 79), (317, 79, 95, 79))"
      ]
     },
     "execution_count": 10,
     "metadata": {},
     "output_type": "execute_result"
    }
   ],
   "source": [
    "X_tr_centered.shape,  X_ts_centered.shape"
   ]
  },
  {
   "cell_type": "code",
   "execution_count": 11,
   "metadata": {},
   "outputs": [
    {
     "data": {
      "text/plain": [
       "((4645,), (317,))"
      ]
     },
     "execution_count": 11,
     "metadata": {},
     "output_type": "execute_result"
    }
   ],
   "source": [
    "\n",
    "y_train = y_train.flatten()\n",
    "y_test = y_test.flatten()\n",
    "y_train.shape,  y_test.shape"
   ]
  },
  {
   "cell_type": "code",
   "execution_count": 12,
   "metadata": {},
   "outputs": [],
   "source": [
    "tf_x = graph.get_tensor_by_name(\"tf_x:0\") # shape:(none,53,63,46)\n",
    "is_train = graph.get_tensor_by_name(\"is_train:0\")"
   ]
  },
  {
   "cell_type": "code",
   "execution_count": 13,
   "metadata": {},
   "outputs": [],
   "source": [
    "output_tensor = graph.get_tensor_by_name('dense_1/Sigmoid:0')"
   ]
  },
  {
   "cell_type": "code",
   "execution_count": 14,
   "metadata": {},
   "outputs": [],
   "source": [
    " #tf.gradients(output_tensor[0][output_index],tf_x)[0]"
   ]
  },
  {
   "cell_type": "code",
   "execution_count": 15,
   "metadata": {},
   "outputs": [],
   "source": [
    "#print(y_test[123])"
   ]
  },
  {
   "cell_type": "code",
   "execution_count": 16,
   "metadata": {},
   "outputs": [],
   "source": [
    "#for all i = 1 than mean\n",
    "# i = 123\n",
    "# input_image = X_ts_centered[i,:]\n",
    "# output_index = int(y_test[i])\n",
    "\n",
    "# # define the calculation\n",
    "# cal = tf.gradients(output_tensor[0][output_index],tf_x)[0]\n",
    "\n",
    "# # expand dimension of the input image fit to the placeholder 'tf_x'\n",
    "# x_value = np.expand_dims(input_image, axis=0)\n",
    "\n",
    "# # get the gradients\n",
    "# gradients = sess.run(cal, {tf_x:x_value,is_train:False})\n",
    "\n",
    "# # to absolute value\n",
    "# tp = gradients.squeeze()\n",
    "# tp = np.absolute(tp)"
   ]
  },
  {
   "cell_type": "code",
   "execution_count": 17,
   "metadata": {},
   "outputs": [],
   "source": [
    "#y_test[26]"
   ]
  },
  {
   "cell_type": "code",
   "execution_count": 18,
   "metadata": {},
   "outputs": [
    {
     "name": "stdout",
     "output_type": "stream",
     "text": [
      "(102,) (317,)\n"
     ]
    }
   ],
   "source": [
    "bla= [i for i, e in enumerate(y_test) if e == 0]\n",
    "print(np.shape(bla),np.shape(y_test))"
   ]
  },
  {
   "cell_type": "code",
   "execution_count": 19,
   "metadata": {},
   "outputs": [],
   "source": [
    "onecondition = [i for i, e in enumerate(y_test) if e ==0]"
   ]
  },
  {
   "cell_type": "code",
   "execution_count": 20,
   "metadata": {},
   "outputs": [
    {
     "data": {
      "text/plain": [
       "(102,)"
      ]
     },
     "execution_count": 20,
     "metadata": {},
     "output_type": "execute_result"
    }
   ],
   "source": [
    "np.shape(onecondition)"
   ]
  },
  {
   "cell_type": "code",
   "execution_count": 21,
   "metadata": {},
   "outputs": [],
   "source": [
    "#del tp,alltp, gradients,x_value,cal, output_index,input_image"
   ]
  },
  {
   "cell_type": "code",
   "execution_count": 22,
   "metadata": {},
   "outputs": [],
   "source": [
    "#del i"
   ]
  },
  {
   "cell_type": "code",
   "execution_count": 23,
   "metadata": {},
   "outputs": [],
   "source": [
    "alltp = np.zeros([len(onecondition),79,95,79])"
   ]
  },
  {
   "cell_type": "code",
   "execution_count": 24,
   "metadata": {},
   "outputs": [],
   "source": [
    "\n",
    "for i in range(len(onecondition)):\n",
    "\n",
    "    input_image = X_ts_centered[onecondition[i],:]\n",
    "    output_index = int(y_test[onecondition[i]])\n",
    "\n",
    "    # define the calculation\n",
    "    cal = tf.gradients(output_tensor[0][output_index],tf_x)[0]\n",
    "\n",
    "    # expand dimension of the input image fit to the placeholder 'tf_x'\n",
    "    x_value = np.expand_dims(input_image, axis=0)\n",
    "\n",
    "    # get the gradients\n",
    "    gradients = sess.run(cal, {tf_x:x_value,is_train:False})\n",
    "\n",
    "    # to absolute value\n",
    "    tp = gradients.squeeze()\n",
    "    tp = np.absolute(tp)\n",
    "    alltp[i]=tp\n"
   ]
  },
  {
   "cell_type": "code",
   "execution_count": 25,
   "metadata": {},
   "outputs": [
    {
     "data": {
      "text/plain": [
       "101"
      ]
     },
     "execution_count": 25,
     "metadata": {},
     "output_type": "execute_result"
    }
   ],
   "source": [
    "i"
   ]
  },
  {
   "cell_type": "code",
   "execution_count": 26,
   "metadata": {},
   "outputs": [
    {
     "name": "stdout",
     "output_type": "stream",
     "text": [
      "(102, 79, 95, 79)\n"
     ]
    }
   ],
   "source": [
    "print(np.shape(alltp))"
   ]
  },
  {
   "cell_type": "code",
   "execution_count": 27,
   "metadata": {},
   "outputs": [],
   "source": [
    "meantp = np.mean(alltp,axis=0)"
   ]
  },
  {
   "cell_type": "code",
   "execution_count": 28,
   "metadata": {},
   "outputs": [
    {
     "name": "stdout",
     "output_type": "stream",
     "text": [
      "(79, 95, 79)\n"
     ]
    }
   ],
   "source": [
    "print(np.shape(meantp))"
   ]
  },
  {
   "cell_type": "code",
   "execution_count": 29,
   "metadata": {},
   "outputs": [],
   "source": [
    "np.save('scrambled_OSD_10_mean_tp',meantp)"
   ]
  },
  {
   "cell_type": "code",
   "execution_count": 30,
   "metadata": {},
   "outputs": [],
   "source": [
    "np.save('scrambled_OSD_10_alltp',alltp)"
   ]
  },
  {
   "cell_type": "code",
   "execution_count": null,
   "metadata": {},
   "outputs": [],
   "source": []
  }
 ],
 "metadata": {
  "kernelspec": {
   "display_name": "Python 3",
   "language": "python",
   "name": "python3"
  },
  "language_info": {
   "codemirror_mode": {
    "name": "ipython",
    "version": 3
   },
   "file_extension": ".py",
   "mimetype": "text/x-python",
   "name": "python",
   "nbconvert_exporter": "python",
   "pygments_lexer": "ipython3",
   "version": "3.6.4"
  }
 },
 "nbformat": 4,
 "nbformat_minor": 5
}
